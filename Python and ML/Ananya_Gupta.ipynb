{
  "nbformat": 4,
  "nbformat_minor": 0,
  "metadata": {
    "colab": {
      "name": "Ananya_Gupta.ipynb",
      "provenance": [],
      "collapsed_sections": [],
      "authorship_tag": "ABX9TyPobtSsJB1tyTv6SJEEsEHv",
      "include_colab_link": true
    },
    "kernelspec": {
      "name": "python3",
      "display_name": "Python 3"
    }
  },
  "cells": [
    {
      "cell_type": "markdown",
      "metadata": {
        "id": "view-in-github",
        "colab_type": "text"
      },
      "source": [
        "<a href=\"https://colab.research.google.com/github/ananya0504/MLproject/blob/main/Python%20and%20ML/Ananya_Gupta.ipynb\" target=\"_parent\"><img src=\"https://colab.research.google.com/assets/colab-badge.svg\" alt=\"Open In Colab\"/></a>"
      ]
    },
    {
      "cell_type": "markdown",
      "metadata": {
        "id": "7v5XNRJ5achv"
      },
      "source": [
        "**---------------------DAY 6-----------------**"
      ]
    },
    {
      "cell_type": "code",
      "metadata": {
        "id": "5Zc7ua60sBr3"
      },
      "source": [
        "import pandas as pd\n",
        "import numpy as np"
      ],
      "execution_count": 3,
      "outputs": []
    },
    {
      "cell_type": "code",
      "metadata": {
        "id": "Yt8WgX_k3_7e"
      },
      "source": [
        "from sklearn.datasets import load_iris #sklearn is the framework, datasets is the module and load_iris is the function\n",
        "iris_dataset = load_iris()"
      ],
      "execution_count": 4,
      "outputs": []
    },
    {
      "cell_type": "code",
      "metadata": {
        "colab": {
          "base_uri": "https://localhost:8080/"
        },
        "id": "sNH0tLRv4Q2g",
        "outputId": "2a1dca9b-ce60-4203-a4e7-266ffcf9d154"
      },
      "source": [
        "print(\"Keys of iris_dataset are : \\n{}\".format(iris_dataset.keys()) )"
      ],
      "execution_count": 5,
      "outputs": [
        {
          "output_type": "stream",
          "text": [
            "Keys of iris_dataset are : \n",
            "dict_keys(['data', 'target', 'target_names', 'DESCR', 'feature_names', 'filename'])\n"
          ],
          "name": "stdout"
        }
      ]
    },
    {
      "cell_type": "code",
      "metadata": {
        "colab": {
          "base_uri": "https://localhost:8080/"
        },
        "id": "gu4Swxmo8kzB",
        "outputId": "8554824c-33db-43cf-df7a-597e9bc0d489"
      },
      "source": [
        "val = iris_dataset['DESCR']\n",
        "start_val= val[:200]\n",
        "print(start_val + \"\\n...\")"
      ],
      "execution_count": 6,
      "outputs": [
        {
          "output_type": "stream",
          "text": [
            ".. _iris_dataset:\n",
            "\n",
            "Iris plants dataset\n",
            "--------------------\n",
            "\n",
            "**Data Set Characteristics:**\n",
            "\n",
            "    :Number of Instances: 150 (50 in each of three classes)\n",
            "    :Number of Attributes: 4 numeric, predictive\n",
            "...\n"
          ],
          "name": "stdout"
        }
      ]
    },
    {
      "cell_type": "code",
      "metadata": {
        "colab": {
          "base_uri": "https://localhost:8080/"
        },
        "id": "03iBCajq_qfY",
        "outputId": "77db2f0f-90cc-43dc-8092-5ac37d905bf3"
      },
      "source": [
        "print(\"Target names : {}\".format(iris_dataset['target_names']) ) #the species of flowers we want to predict"
      ],
      "execution_count": 7,
      "outputs": [
        {
          "output_type": "stream",
          "text": [
            "Target names : ['setosa' 'versicolor' 'virginica']\n"
          ],
          "name": "stdout"
        }
      ]
    },
    {
      "cell_type": "code",
      "metadata": {
        "colab": {
          "base_uri": "https://localhost:8080/"
        },
        "id": "QRIsnzzrAeyp",
        "outputId": "4a5d4f3b-3a48-408b-897c-33b7281683db"
      },
      "source": [
        "print(\"Feature names : {}\".format(iris_dataset['feature_names']) ) #the description of each feature of a flower"
      ],
      "execution_count": 8,
      "outputs": [
        {
          "output_type": "stream",
          "text": [
            "Feature names : ['sepal length (cm)', 'sepal width (cm)', 'petal length (cm)', 'petal width (cm)']\n"
          ],
          "name": "stdout"
        }
      ]
    },
    {
      "cell_type": "code",
      "metadata": {
        "colab": {
          "base_uri": "https://localhost:8080/"
        },
        "id": "ikX4HZHeCSj1",
        "outputId": "e86e2acb-81fd-4236-ca5b-9c294b1f1307"
      },
      "source": [
        "print(\"Type of data : {}\".format(type(iris_dataset['data']))) #the type in which we recieve data"
      ],
      "execution_count": 9,
      "outputs": [
        {
          "output_type": "stream",
          "text": [
            "Type of data : <class 'numpy.ndarray'>\n"
          ],
          "name": "stdout"
        }
      ]
    },
    {
      "cell_type": "code",
      "metadata": {
        "colab": {
          "base_uri": "https://localhost:8080/"
        },
        "id": "tJPUGXrhDbCd",
        "outputId": "5838de52-2e6b-4cae-acc1-09b91156ddb4"
      },
      "source": [
        "print(\"Shape of data : {}\".format(iris_dataset['data'].shape)) #the rows represnt 150 flowers while the columns represent the 4 feature measurements\n",
        "#Individual items are called samples or data points and their properties are called features\n",
        "#shape is the number of samples multiplied by the number of features"
      ],
      "execution_count": 10,
      "outputs": [
        {
          "output_type": "stream",
          "text": [
            "Shape of data : (150, 4)\n"
          ],
          "name": "stdout"
        }
      ]
    },
    {
      "cell_type": "code",
      "metadata": {
        "colab": {
          "base_uri": "https://localhost:8080/"
        },
        "id": "6p9FortrEEKJ",
        "outputId": "ac99232a-1557-48bb-97df-2a666e54d249"
      },
      "source": [
        "print(\"First five columns of data : \\n{}\".format(iris_dataset['data'][:5]))  # we observe that the all the flowers have the same petal width and the \n",
        "# first flower has the max sepal width"
      ],
      "execution_count": 11,
      "outputs": [
        {
          "output_type": "stream",
          "text": [
            "First five columns of data : \n",
            "[[5.1 3.5 1.4 0.2]\n",
            " [4.9 3.  1.4 0.2]\n",
            " [4.7 3.2 1.3 0.2]\n",
            " [4.6 3.1 1.5 0.2]\n",
            " [5.  3.6 1.4 0.2]]\n"
          ],
          "name": "stdout"
        }
      ]
    },
    {
      "cell_type": "code",
      "metadata": {
        "colab": {
          "base_uri": "https://localhost:8080/"
        },
        "id": "ikW3lhD1H4Cu",
        "outputId": "32470df2-cdd3-422f-8801-be469cb92ec1"
      },
      "source": [
        "print(\"Type of Target : {}\".format(type(iris_dataset['target']))) #the type in which we recieve the target"
      ],
      "execution_count": 12,
      "outputs": [
        {
          "output_type": "stream",
          "text": [
            "Type of Target : <class 'numpy.ndarray'>\n"
          ],
          "name": "stdout"
        }
      ]
    },
    {
      "cell_type": "code",
      "metadata": {
        "colab": {
          "base_uri": "https://localhost:8080/"
        },
        "id": "XL_DThzaIN7V",
        "outputId": "cd710c43-6b50-45bc-be7f-eff6e1f28d20"
      },
      "source": [
        "print(\"Shape of Target : {}\".format(iris_dataset['target'].shape)) #we see that is has one entry per flower"
      ],
      "execution_count": 13,
      "outputs": [
        {
          "output_type": "stream",
          "text": [
            "Shape of Target : (150,)\n"
          ],
          "name": "stdout"
        }
      ]
    },
    {
      "cell_type": "code",
      "metadata": {
        "colab": {
          "base_uri": "https://localhost:8080/"
        },
        "id": "Uk77N5AyIeUO",
        "outputId": "99a62f39-1e88-4dc9-fe5f-100597d9e4fe"
      },
      "source": [
        "print(\"Target : {}\".format(iris_dataset['target'])) #we see that the species are encoded as digits between 0-2\n",
        "#0-setosa 1-versicolor 2-virginica"
      ],
      "execution_count": 14,
      "outputs": [
        {
          "output_type": "stream",
          "text": [
            "Target : [0 0 0 0 0 0 0 0 0 0 0 0 0 0 0 0 0 0 0 0 0 0 0 0 0 0 0 0 0 0 0 0 0 0 0 0 0\n",
            " 0 0 0 0 0 0 0 0 0 0 0 0 0 1 1 1 1 1 1 1 1 1 1 1 1 1 1 1 1 1 1 1 1 1 1 1 1\n",
            " 1 1 1 1 1 1 1 1 1 1 1 1 1 1 1 1 1 1 1 1 1 1 1 1 1 1 2 2 2 2 2 2 2 2 2 2 2\n",
            " 2 2 2 2 2 2 2 2 2 2 2 2 2 2 2 2 2 2 2 2 2 2 2 2 2 2 2 2 2 2 2 2 2 2 2 2 2\n",
            " 2 2]\n"
          ],
          "name": "stdout"
        }
      ]
    },
    {
      "cell_type": "markdown",
      "metadata": {
        "id": "bCaq171EaWWo"
      },
      "source": [
        "**-------------DAY7----------------------------**"
      ]
    },
    {
      "cell_type": "code",
      "metadata": {
        "id": "bzpL-Ot4abGc"
      },
      "source": [
        "import sklearn # most used ML framework"
      ],
      "execution_count": 15,
      "outputs": []
    },
    {
      "cell_type": "markdown",
      "metadata": {
        "id": "MgRZjpOdavAQ"
      },
      "source": [
        "X->data(2D) (The 4 attributes we have)\n",
        "\n",
        "y->label(1D) (the 3 flower labels we have)\n",
        "\n",
        "from f(x)=y, where you provide x as input and get y as output"
      ]
    },
    {
      "cell_type": "code",
      "metadata": {
        "id": "OlpYW6PIayEy"
      },
      "source": [
        "from sklearn.model_selection import train_test_split #train_test_split is a function to split data into\n",
        "                                                    # 75% training data and 25% testing data by default\n",
        "\n",
        "X_train,X_test, y_train, y_test = train_test_split(\n",
        "    iris_dataset['data'], iris_dataset['target'], random_state=0) #pick the training data randomly from training the \n",
        "                                                                  # model as we have our data arranged into an orderly fashion\n",
        "                                                                  #it will be same random order for sir as well us the rest of us"
      ],
      "execution_count": 16,
      "outputs": []
    },
    {
      "cell_type": "code",
      "metadata": {
        "colab": {
          "base_uri": "https://localhost:8080/"
        },
        "id": "2hhAyyCKbL4t",
        "outputId": "ca64c563-47a2-4785-dbad-cb090f35c9d7"
      },
      "source": [
        "print(\"X_train shape : {}\".format(X_train.shape))\n",
        "print(\"y_train shape : {}\".format(y_train.shape))\n",
        "print(\"X_test shape : {}\".format(X_test.shape))\n",
        "print(\"y_test shape : {}\".format(y_test.shape))"
      ],
      "execution_count": 17,
      "outputs": [
        {
          "output_type": "stream",
          "text": [
            "X_train shape : (112, 4)\n",
            "y_train shape : (112,)\n",
            "X_test shape : (38, 4)\n",
            "y_test shape : (38,)\n"
          ],
          "name": "stdout"
        }
      ]
    },
    {
      "cell_type": "markdown",
      "metadata": {
        "id": "OC59FHfQfF-Z"
      },
      "source": [
        "Gives 112 data points and 4 colums for the 4 attributes\n"
      ]
    },
    {
      "cell_type": "code",
      "metadata": {
        "id": "GJj10geCfIvN"
      },
      "source": [
        "from sklearn.neighbors import KNeighborsClassifier #neighbors is the module and KNeighborsClassifier is a class"
      ],
      "execution_count": 18,
      "outputs": []
    },
    {
      "cell_type": "code",
      "metadata": {
        "id": "nnO-00gSp90F"
      },
      "source": [
        "knn = KNeighborsClassifier(n_neighbors=5) # knn is the name of the object/bot that we have made"
      ],
      "execution_count": 41,
      "outputs": []
    },
    {
      "cell_type": "code",
      "metadata": {
        "colab": {
          "base_uri": "https://localhost:8080/"
        },
        "id": "BSLKDTHdqk4n",
        "outputId": "ff151acb-3bcb-4059-eac0-5fa2f189460e"
      },
      "source": [
        "knn.fit(X_train, y_train) # to build the model on the training set we call the fit method of knn object which\n",
        "                          #which takes as arguments the numpy array X_train and the y_train of the training data \n",
        "                          #and the corresponding training labels respectively"
      ],
      "execution_count": 42,
      "outputs": [
        {
          "output_type": "execute_result",
          "data": {
            "text/plain": [
              "KNeighborsClassifier(algorithm='auto', leaf_size=30, metric='minkowski',\n",
              "                     metric_params=None, n_jobs=None, n_neighbors=5, p=2,\n",
              "                     weights='uniform')"
            ]
          },
          "metadata": {
            "tags": []
          },
          "execution_count": 42
        }
      ]
    },
    {
      "cell_type": "code",
      "metadata": {
        "colab": {
          "base_uri": "https://localhost:8080/"
        },
        "id": "GDtLQ6JL1TTJ",
        "outputId": "1f602703-009a-4f17-da1a-bae6c6a1962c"
      },
      "source": [
        "X_new = np.array([[5,2.9,1,0.2]]) #we put the measurements of a random flower into a 2D numpy array \n",
        "                                  #as sklearn expects 2D  arrays as data\n",
        "\n",
        "print(\"X_new.shape: {}\".format(X_new.shape))"
      ],
      "execution_count": 43,
      "outputs": [
        {
          "output_type": "stream",
          "text": [
            "X_new.shape: (1, 4)\n"
          ],
          "name": "stdout"
        }
      ]
    },
    {
      "cell_type": "code",
      "metadata": {
        "colab": {
          "base_uri": "https://localhost:8080/"
        },
        "id": "Fn5cqu1d2-9G",
        "outputId": "7cba21db-5858-4c83-8f35-8fed969ddbab"
      },
      "source": [
        "prediction = knn.predict(X_new) #call the predict method to make a prediction\n",
        "\n",
        "print(\"Prediction: {}\".format(prediction))\n",
        "print(\"Predicted Target Name: {}\".format(\n",
        "    iris_dataset['target_names'][prediction]\n",
        "))"
      ],
      "execution_count": 44,
      "outputs": [
        {
          "output_type": "stream",
          "text": [
            "Prediction: [0]\n",
            "Predicted Target Name: ['setosa']\n"
          ],
          "name": "stdout"
        }
      ]
    },
    {
      "cell_type": "code",
      "metadata": {
        "colab": {
          "base_uri": "https://localhost:8080/"
        },
        "id": "WNQu8krf4QAA",
        "outputId": "831e4adc-adc8-46e9-e2a3-338c4b31d562"
      },
      "source": [
        "#Predicting for the test dataset now(X_test)\n",
        "\n",
        "y_pred = knn.predict(X_test)\n",
        "print(\"Test Set Predictions: \\n {}\".format(y_pred))"
      ],
      "execution_count": 45,
      "outputs": [
        {
          "output_type": "stream",
          "text": [
            "Test Set Predictions: \n",
            " [2 1 0 2 0 2 0 1 1 1 2 1 1 1 1 0 1 1 0 0 2 1 0 0 2 0 0 1 1 0 2 1 0 2 2 1 0\n",
            " 2]\n"
          ],
          "name": "stdout"
        }
      ]
    },
    {
      "cell_type": "code",
      "metadata": {
        "colab": {
          "base_uri": "https://localhost:8080/"
        },
        "id": "ueYtH3OH4zhP",
        "outputId": "4441d8c1-7927-41d4-d687-80d970718a7c"
      },
      "source": [
        "#check if the predictions were actually correct or not\n",
        "print(\"Test Set Score: {}\".format(np.mean(y_pred == y_test))) #for all 38 values"
      ],
      "execution_count": 46,
      "outputs": [
        {
          "output_type": "stream",
          "text": [
            "Test Set Score: 0.9736842105263158\n"
          ],
          "name": "stdout"
        }
      ]
    },
    {
      "cell_type": "code",
      "metadata": {
        "id": "i8tzw_VOR65Z"
      },
      "source": [
        ""
      ],
      "execution_count": null,
      "outputs": []
    }
  ]
}