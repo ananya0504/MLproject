{
  "nbformat": 4,
  "nbformat_minor": 0,
  "metadata": {
    "colab": {
      "name": "Ananya_Gupta.ipynb",
      "provenance": [],
      "collapsed_sections": [],
      "authorship_tag": "ABX9TyMtHEpNYmG5Qus7cLlCSSxW",
      "include_colab_link": true
    },
    "kernelspec": {
      "name": "python3",
      "display_name": "Python 3"
    }
  },
  "cells": [
    {
      "cell_type": "markdown",
      "metadata": {
        "id": "view-in-github",
        "colab_type": "text"
      },
      "source": [
        "<a href=\"https://colab.research.google.com/github/ananya0504/MLproject/blob/main/Ananya_Gupta.ipynb\" target=\"_parent\"><img src=\"https://colab.research.google.com/assets/colab-badge.svg\" alt=\"Open In Colab\"/></a>"
      ]
    },
    {
      "cell_type": "markdown",
      "metadata": {
        "id": "7v5XNRJ5achv"
      },
      "source": [
        "**---------------------DAY 6-----------------**"
      ]
    },
    {
      "cell_type": "code",
      "metadata": {
        "id": "5Zc7ua60sBr3"
      },
      "source": [
        "import pandas as pd\r\n",
        "import numpy as np"
      ],
      "execution_count": 4,
      "outputs": []
    },
    {
      "cell_type": "code",
      "metadata": {
        "id": "Yt8WgX_k3_7e"
      },
      "source": [
        "from sklearn.datasets import load_iris #sklearn is the framework, datasets is the module and load_iris is the function\r\n",
        "iris_dataset = load_iris()"
      ],
      "execution_count": 5,
      "outputs": []
    },
    {
      "cell_type": "code",
      "metadata": {
        "colab": {
          "base_uri": "https://localhost:8080/"
        },
        "id": "sNH0tLRv4Q2g",
        "outputId": "9b8e7d85-6087-43fa-f6f8-b43956ec32fd"
      },
      "source": [
        "print(\"Keys of iris_dataset are : \\n{}\".format(iris_dataset.keys()) )"
      ],
      "execution_count": 6,
      "outputs": [
        {
          "output_type": "stream",
          "text": [
            "Keys of iris_dataset are : \n",
            "dict_keys(['data', 'target', 'target_names', 'DESCR', 'feature_names', 'filename'])\n"
          ],
          "name": "stdout"
        }
      ]
    },
    {
      "cell_type": "code",
      "metadata": {
        "colab": {
          "base_uri": "https://localhost:8080/"
        },
        "id": "gu4Swxmo8kzB",
        "outputId": "66a07ccb-7e58-45ab-fa2c-d62bcc72e414"
      },
      "source": [
        "val = iris_dataset['DESCR']\r\n",
        "start_val= val[:200]\r\n",
        "print(start_val + \"\\n...\")"
      ],
      "execution_count": 7,
      "outputs": [
        {
          "output_type": "stream",
          "text": [
            ".. _iris_dataset:\n",
            "\n",
            "Iris plants dataset\n",
            "--------------------\n",
            "\n",
            "**Data Set Characteristics:**\n",
            "\n",
            "    :Number of Instances: 150 (50 in each of three classes)\n",
            "    :Number of Attributes: 4 numeric, predictive\n",
            "...\n"
          ],
          "name": "stdout"
        }
      ]
    },
    {
      "cell_type": "code",
      "metadata": {
        "colab": {
          "base_uri": "https://localhost:8080/"
        },
        "id": "03iBCajq_qfY",
        "outputId": "396908e5-74f7-4f85-9b06-65ac916d4395"
      },
      "source": [
        "print(\"Target names : {}\".format(iris_dataset['target_names']) ) #the species of flowers we want to predict"
      ],
      "execution_count": 8,
      "outputs": [
        {
          "output_type": "stream",
          "text": [
            "Target names : ['setosa' 'versicolor' 'virginica']\n"
          ],
          "name": "stdout"
        }
      ]
    },
    {
      "cell_type": "code",
      "metadata": {
        "colab": {
          "base_uri": "https://localhost:8080/"
        },
        "id": "QRIsnzzrAeyp",
        "outputId": "31af97c8-f909-49cf-fc98-535e198eabe3"
      },
      "source": [
        "print(\"Feature names : {}\".format(iris_dataset['feature_names']) ) #the description of each feature of a flower"
      ],
      "execution_count": 9,
      "outputs": [
        {
          "output_type": "stream",
          "text": [
            "Feature names : ['sepal length (cm)', 'sepal width (cm)', 'petal length (cm)', 'petal width (cm)']\n"
          ],
          "name": "stdout"
        }
      ]
    },
    {
      "cell_type": "code",
      "metadata": {
        "colab": {
          "base_uri": "https://localhost:8080/"
        },
        "id": "ikX4HZHeCSj1",
        "outputId": "f44cfaad-ddfc-412e-aa16-a8e277651807"
      },
      "source": [
        "print(\"Type of data : {}\".format(type(iris_dataset['data']))) #the type in which we recieve data"
      ],
      "execution_count": 10,
      "outputs": [
        {
          "output_type": "stream",
          "text": [
            "Type of data : <class 'numpy.ndarray'>\n"
          ],
          "name": "stdout"
        }
      ]
    },
    {
      "cell_type": "code",
      "metadata": {
        "colab": {
          "base_uri": "https://localhost:8080/"
        },
        "id": "tJPUGXrhDbCd",
        "outputId": "a4b9a926-bd40-4c4d-c7f4-51f306008734"
      },
      "source": [
        "print(\"Shape of data : {}\".format(iris_dataset['data'].shape)) #the rows represnt 150 flowers while the columns represent the 4 feature measurements\r\n",
        "#Individual items are called samples or data points and their properties are called features\r\n",
        "#shape is the number of samples multiplied by the number of features"
      ],
      "execution_count": 11,
      "outputs": [
        {
          "output_type": "stream",
          "text": [
            "Shape of data : (150, 4)\n"
          ],
          "name": "stdout"
        }
      ]
    },
    {
      "cell_type": "code",
      "metadata": {
        "colab": {
          "base_uri": "https://localhost:8080/"
        },
        "id": "6p9FortrEEKJ",
        "outputId": "7047f3db-2563-43e6-d11e-a16e4b293de3"
      },
      "source": [
        "print(\"First five columns of data : \\n{}\".format(iris_dataset['data'][:5]))  # we observe that the all the flowers have the same petal width and the \r\n",
        "# first flower has the max sepal width"
      ],
      "execution_count": 12,
      "outputs": [
        {
          "output_type": "stream",
          "text": [
            "First five columns of data : \n",
            "[[5.1 3.5 1.4 0.2]\n",
            " [4.9 3.  1.4 0.2]\n",
            " [4.7 3.2 1.3 0.2]\n",
            " [4.6 3.1 1.5 0.2]\n",
            " [5.  3.6 1.4 0.2]]\n"
          ],
          "name": "stdout"
        }
      ]
    },
    {
      "cell_type": "code",
      "metadata": {
        "colab": {
          "base_uri": "https://localhost:8080/"
        },
        "id": "ikW3lhD1H4Cu",
        "outputId": "1ccb5b7f-2086-4f0d-b890-fd85be09b851"
      },
      "source": [
        "print(\"Type of Target : {}\".format(type(iris_dataset['target']))) #the type in which we recieve the target"
      ],
      "execution_count": 13,
      "outputs": [
        {
          "output_type": "stream",
          "text": [
            "Type of Target : <class 'numpy.ndarray'>\n"
          ],
          "name": "stdout"
        }
      ]
    },
    {
      "cell_type": "code",
      "metadata": {
        "colab": {
          "base_uri": "https://localhost:8080/"
        },
        "id": "XL_DThzaIN7V",
        "outputId": "dcfcd29f-e8f2-417c-91ef-09df23e1f63f"
      },
      "source": [
        "print(\"Shape of Target : {}\".format(iris_dataset['target'].shape)) #we see that is has one entry per flower"
      ],
      "execution_count": 14,
      "outputs": [
        {
          "output_type": "stream",
          "text": [
            "Shape of Target : (150,)\n"
          ],
          "name": "stdout"
        }
      ]
    },
    {
      "cell_type": "code",
      "metadata": {
        "colab": {
          "base_uri": "https://localhost:8080/"
        },
        "id": "Uk77N5AyIeUO",
        "outputId": "a3c1fe56-3dee-48ae-a9cf-89d6b20c3dbe"
      },
      "source": [
        "print(\"Target : {}\".format(iris_dataset['target'])) #we see that the species are encoded as digits between 0-2\r\n",
        "#0-sentose 1-versicolor 2-virginica"
      ],
      "execution_count": 15,
      "outputs": [
        {
          "output_type": "stream",
          "text": [
            "Target : [0 0 0 0 0 0 0 0 0 0 0 0 0 0 0 0 0 0 0 0 0 0 0 0 0 0 0 0 0 0 0 0 0 0 0 0 0\n",
            " 0 0 0 0 0 0 0 0 0 0 0 0 0 1 1 1 1 1 1 1 1 1 1 1 1 1 1 1 1 1 1 1 1 1 1 1 1\n",
            " 1 1 1 1 1 1 1 1 1 1 1 1 1 1 1 1 1 1 1 1 1 1 1 1 1 1 2 2 2 2 2 2 2 2 2 2 2\n",
            " 2 2 2 2 2 2 2 2 2 2 2 2 2 2 2 2 2 2 2 2 2 2 2 2 2 2 2 2 2 2 2 2 2 2 2 2 2\n",
            " 2 2]\n"
          ],
          "name": "stdout"
        }
      ]
    },
    {
      "cell_type": "markdown",
      "metadata": {
        "id": "bCaq171EaWWo"
      },
      "source": [
        "**-------------DAY7----------------------------**"
      ]
    },
    {
      "cell_type": "code",
      "metadata": {
        "id": "bzpL-Ot4abGc"
      },
      "source": [
        "import sklearn # most used ML framework"
      ],
      "execution_count": 16,
      "outputs": []
    },
    {
      "cell_type": "markdown",
      "metadata": {
        "id": "MgRZjpOdavAQ"
      },
      "source": [
        "X->data(2D) (The 4 attributes we have)\r\n",
        "\r\n",
        "y->label(1D) (the 3 flower labels we have)\r\n",
        "\r\n",
        "from f(x)=y, where you provide x as input and get y as output"
      ]
    },
    {
      "cell_type": "code",
      "metadata": {
        "id": "OlpYW6PIayEy"
      },
      "source": [
        "from sklearn.model_selection import train_test_split #train_test_split is a function to split data into\r\n",
        "                                                    # 75% training data and 25% testing data by default\r\n",
        "\r\n",
        "X_train,X_test, y_train, y_test = train_test_split(\r\n",
        "    iris_dataset['data'], iris_dataset['target'], random_state=0) #pick the training data randomly from training the \r\n",
        "                                                                  # model as we have our data arranged into an orderly fashion\r\n",
        "                                                                  #it will be same random order for sir as well us the rest of us"
      ],
      "execution_count": 17,
      "outputs": []
    },
    {
      "cell_type": "code",
      "metadata": {
        "colab": {
          "base_uri": "https://localhost:8080/"
        },
        "id": "2hhAyyCKbL4t",
        "outputId": "8a52d91e-e274-493b-e529-5446e5fcb432"
      },
      "source": [
        "print(\"X_train shape : {}\".format(X_train.shape))\r\n",
        "print(\"y_train shape : {}\".format(y_train.shape))\r\n",
        "print(\"X_test shape : {}\".format(X_test.shape))\r\n",
        "print(\"y_test shape : {}\".format(y_test.shape))"
      ],
      "execution_count": 18,
      "outputs": [
        {
          "output_type": "stream",
          "text": [
            "X_train shape : (112, 4)\n",
            "y_train shape : (112,)\n",
            "X_test shape : (38, 4)\n",
            "y_test shape : (38,)\n"
          ],
          "name": "stdout"
        }
      ]
    },
    {
      "cell_type": "markdown",
      "metadata": {
        "id": "OC59FHfQfF-Z"
      },
      "source": [
        "Gives 112 data points and 4 colums for the 4 attributes\r\n"
      ]
    },
    {
      "cell_type": "code",
      "metadata": {
        "id": "GJj10geCfIvN"
      },
      "source": [
        "from sklearn.neighbors import KNeighborsClassifier #neighbors is the module and KNeighborsClassifier is a class"
      ],
      "execution_count": 22,
      "outputs": []
    },
    {
      "cell_type": "code",
      "metadata": {
        "id": "nnO-00gSp90F"
      },
      "source": [
        "knn = KNeighborsClassifier(n_neighbors=1) # knn is the name of the object/bot that we have made"
      ],
      "execution_count": 23,
      "outputs": []
    },
    {
      "cell_type": "code",
      "metadata": {
        "colab": {
          "base_uri": "https://localhost:8080/"
        },
        "id": "BSLKDTHdqk4n",
        "outputId": "d45423bf-c2ba-4a39-fe15-9fb1664adcbd"
      },
      "source": [
        "knn.fit(X_train, y_train) # to build the model on the training set we call the fit method of knn object which\r\n",
        "                          #which takes as arguments the numpy array X_train and the y_train of the training data \r\n",
        "                          #and the corresponding training labels respectively"
      ],
      "execution_count": 25,
      "outputs": [
        {
          "output_type": "execute_result",
          "data": {
            "text/plain": [
              "KNeighborsClassifier(algorithm='auto', leaf_size=30, metric='minkowski',\n",
              "                     metric_params=None, n_jobs=None, n_neighbors=1, p=2,\n",
              "                     weights='uniform')"
            ]
          },
          "metadata": {
            "tags": []
          },
          "execution_count": 25
        }
      ]
    },
    {
      "cell_type": "code",
      "metadata": {
        "colab": {
          "base_uri": "https://localhost:8080/"
        },
        "id": "GDtLQ6JL1TTJ",
        "outputId": "eb46605c-dbec-4498-89ca-01497b9958b1"
      },
      "source": [
        "X_new = np.array([[5,2.9,1,0.2]]) #we put the measurements of a random flower into a 2D numpy array \r\n",
        "                                  #as sklearn expects 2D  arrays as data\r\n",
        "\r\n",
        "print(\"X_new.shape: {}\".format(X_new.shape))"
      ],
      "execution_count": 27,
      "outputs": [
        {
          "output_type": "stream",
          "text": [
            "X_new.shape: (1, 4)\n"
          ],
          "name": "stdout"
        }
      ]
    },
    {
      "cell_type": "code",
      "metadata": {
        "colab": {
          "base_uri": "https://localhost:8080/"
        },
        "id": "Fn5cqu1d2-9G",
        "outputId": "7037e5d6-fc32-412e-f280-830ff22a3c47"
      },
      "source": [
        "prediction = knn.predict(X_new) #call the predict method to make a prediction\r\n",
        "\r\n",
        "print(\"Prediction: {}\".format(prediction))\r\n",
        "print(\"Predicted Target Name: {}\".format(\r\n",
        "    iris_dataset['target_names'][prediction]\r\n",
        "))"
      ],
      "execution_count": 29,
      "outputs": [
        {
          "output_type": "stream",
          "text": [
            "Prediction: [0]\n",
            "Predicted Target Name: ['setosa']\n"
          ],
          "name": "stdout"
        }
      ]
    },
    {
      "cell_type": "code",
      "metadata": {
        "colab": {
          "base_uri": "https://localhost:8080/"
        },
        "id": "WNQu8krf4QAA",
        "outputId": "94f78c13-fa08-4573-b5fe-fbc528361a57"
      },
      "source": [
        "#Predicting for the test dataset now(X_test)\r\n",
        "\r\n",
        "y_pred = knn.predict(X_test)\r\n",
        "print(\"Test Set Predictions: \\n {}\".format(y_pred))"
      ],
      "execution_count": 30,
      "outputs": [
        {
          "output_type": "stream",
          "text": [
            "Test Set Predictions: \n",
            " [2 1 0 2 0 2 0 1 1 1 2 1 1 1 1 0 1 1 0 0 2 1 0 0 2 0 0 1 1 0 2 1 0 2 2 1 0\n",
            " 2]\n"
          ],
          "name": "stdout"
        }
      ]
    },
    {
      "cell_type": "code",
      "metadata": {
        "colab": {
          "base_uri": "https://localhost:8080/"
        },
        "id": "ueYtH3OH4zhP",
        "outputId": "bc395f1c-d61e-49fb-fe1d-3d0c3a4f09b3"
      },
      "source": [
        "#check if the predictions were actually correct or not\r\n",
        "print(\"Test Set Score: {}\".format(np.mean(y_pred == y_test))) #for all 38 values"
      ],
      "execution_count": 31,
      "outputs": [
        {
          "output_type": "stream",
          "text": [
            "Test Set Score: 0.9736842105263158\n"
          ],
          "name": "stdout"
        }
      ]
    }
  ]
}